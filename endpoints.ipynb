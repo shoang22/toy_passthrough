{
 "cells": [
  {
   "cell_type": "code",
   "execution_count": 6,
   "id": "ede0eb9f",
   "metadata": {},
   "outputs": [
    {
     "data": {
      "text/plain": [
       "b'{\"ResponseMetadata\":{\"RequestId\":\"9a391e1c-c027-4d40-8cec-25751d6117f1\",\"HTTPStatusCode\":200,\"HTTPHeaders\":{\"date\":\"Fri, 09 May 2025 12:27:55 GMT\",\"content-type\":\"application/json\",\"content-length\":\"952\",\"connection\":\"keep-alive\",\"x-amzn-requestid\":\"9a391e1c-c027-4d40-8cec-25751d6117f1\"},\"RetryAttempts\":0},\"output\":{\"message\":{\"role\":\"assistant\",\"content\":[{\"text\":\"After reviewing the document, I don\\'t see any specific leadership principles outlined for interns. The document is actually a ChatGPT cheat sheet that focuses on prompt engineering techniques, basic structures for prompts, and various use cases for AI in different business functions. It doesn\\'t contain information about leadership principles for interns.\\\\n\\\\nRegarding the image, I can see a professional portrait of a man in a dark suit with a white shirt and red patterned tie. He has dark hair and is smiling at the camera against a softly blurred background. The image appears to be a corporate or professional headshot, likely for business purposes.\"}]}},\"stopReason\":\"end_turn\",\"usage\":{\"inputTokens\":2375,\"outputTokens\":135,\"totalTokens\":2510},\"metrics\":{\"latencyMs\":5310}}'"
      ]
     },
     "execution_count": 6,
     "metadata": {},
     "output_type": "execute_result"
    }
   ],
   "source": [
    "import requests\n",
    "\n",
    "resp = requests.post(\"http://127.0.0.1:8080/model/litty/converse\")\n",
    "resp.content"
   ]
  },
  {
   "cell_type": "code",
   "execution_count": 8,
   "id": "98a6b2cd",
   "metadata": {},
   "outputs": [
    {
     "data": {
      "text/plain": [
       "{'ResponseMetadata': {'HTTPStatusCode': 200,\n",
       "  'HTTPHeaders': {'date': 'Fri, 09 May 2025 12:33:45 GMT',\n",
       "   'server': 'uvicorn',\n",
       "   'content-length': '1149',\n",
       "   'content-type': 'application/json'},\n",
       "  'RetryAttempts': 0},\n",
       " 'output': {'message': {'role': 'assistant',\n",
       "   'content': [{'text': \"After reviewing the document, I don't see any specific leadership principles outlined for interns. The document is actually a ChatGPT cheat sheet that focuses on prompt engineering techniques, basic structures for prompts, and various use cases for AI in different business functions. It doesn't contain information about leadership principles for interns.\\n\\nRegarding the image, I can see a professional portrait of a man in a dark suit with a white shirt and red patterned tie. He has dark hair and is smiling at the camera against a softly blurred background. The image appears to be a corporate or professional headshot, likely for business purposes.\"}]}},\n",
       " 'stopReason': 'end_turn',\n",
       " 'usage': {'inputTokens': 2375, 'outputTokens': 135, 'totalTokens': 2510},\n",
       " 'metrics': {'latencyMs': 5310}}"
      ]
     },
     "execution_count": 8,
     "metadata": {},
     "output_type": "execute_result"
    }
   ],
   "source": [
    "import boto3\n",
    "\n",
    "client = boto3.client(\n",
    "    \"bedrock-runtime\", \n",
    "    endpoint_url=\"http://127.0.0.1:8080/bedrock\", \n",
    "    use_ssl=False, \n",
    "    region_name=\"us-east-1\",\n",
    "    aws_access_key_id=\"dummy\",\n",
    "    aws_secret_access_key=\"dummy\",\n",
    "    aws_session_token=\"dummy\",\n",
    ")\n",
    "response = client.converse(\n",
    "    modelId=\"us.anthropic.claude-3-7-sonnet-20250219-v1:0\",\n",
    "    messages=[{\"role\": \"user\", \"content\": [{\"text\": \"hello\"}]}],\n",
    "    inferenceConfig={\n",
    "        \"maxTokens\": 2000,\n",
    "        \"temperature\": 0\n",
    "    },\n",
    ")\n",
    "response"
   ]
  }
 ],
 "metadata": {
  "kernelspec": {
   "display_name": ".venv",
   "language": "python",
   "name": "python3"
  },
  "language_info": {
   "codemirror_mode": {
    "name": "ipython",
    "version": 3
   },
   "file_extension": ".py",
   "mimetype": "text/x-python",
   "name": "python",
   "nbconvert_exporter": "python",
   "pygments_lexer": "ipython3",
   "version": "3.13.2"
  }
 },
 "nbformat": 4,
 "nbformat_minor": 5
}
